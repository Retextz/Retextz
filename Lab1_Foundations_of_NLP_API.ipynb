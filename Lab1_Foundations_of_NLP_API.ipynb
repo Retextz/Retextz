{
  "cells": [
    {
      "cell_type": "markdown",
      "id": "2d5b477d",
      "metadata": {
        "id": "2d5b477d"
      },
      "source": [
        "# Lab 1: Foundations of NLP\n",
        "\n",
        "In this lab you will **choose one** API to fetch approximately 200 words of live text, then use that text for all tasks below.\n",
        "\n",
        "**TODO:** Pick your API from the list (see README/API docs), and implement the fetch in the first code cell."
      ]
    },
    {
      "cell_type": "code",
      "execution_count": null,
      "id": "4d52fb40",
      "metadata": {
        "id": "4d52fb40"
      },
      "outputs": [],
      "source": [
        "# TODO: Fetch ~200 words of text from your chosen API\n",
        "\n",
        "# Example placeholder:\n",
        "# import os, requests\n",
        "# key = os.getenv('NEWS_API_KEY')\n",
        "# url = f'https://newsapi.org/v2/everything?q=Miami&apiKey={key}'\n",
        "# articles = requests.get(url).json()['articles']\n",
        "# raw_text = ' '.join(a['title'] + ' ' + (a['description'] or '') for a in articles[:3])\n"
      ]
    },
    {
      "cell_type": "code",
      "source": [
        "import os\n",
        "import requests\n",
        "\n",
        "API_KEY = \"0ef21751a05b4363ae839ef0d77266a1\"\n",
        "url = f'https://newsapi.org/v2/everything?q=Miami&apiKey={API_KEY}'\n",
        "\n",
        "try:\n",
        "    response = requests.get(url)\n",
        "    data = response.json()\n",
        "\n",
        "    print(\"Status Code:\", response.status_code)\n",
        "    print(\"Response Keys\", data.keys())\n",
        "\n",
        "    if response.status_code != 200:\n",
        "        print(\"API Error:\", data.get('message', 'Unknown error'))\n",
        "    elif 'articles' not in data:\n",
        "        print(\"Invalid response format. Available keys:\", data.keys())\n",
        "    else:\n",
        "        articles = data['articles']\n",
        "        raw_text = ' '.join([\n",
        "            a['title'] + ' ' + (a.get('description', '') or '')\n",
        "            for a in articles[:5]\n",
        "        ])[:500]\n",
        "\n",
        "        print(\"Success! Text sample:\", raw_text[:100] + \"...\")\n",
        "        print(f\"Word count: {len(raw_text.split())}\")\n",
        "\n",
        "except Exception as e:\n",
        "    print(f\"Failed with error: {str(e)}\")\n",
        "    # Fallback text for lab continuity\n",
        "    raw_text = \"\"\"Miami is a major city in Florida known for its beaches...\"\"\"\n"
      ],
      "metadata": {
        "id": "4zT6JvMHehoH",
        "outputId": "f4a644e9-df11-483a-f398-c957a42474a7",
        "colab": {
          "base_uri": "https://localhost:8080/"
        }
      },
      "id": "4zT6JvMHehoH",
      "execution_count": 10,
      "outputs": [
        {
          "output_type": "stream",
          "name": "stdout",
          "text": [
            "Status Code: 200\n",
            "Response Keys dict_keys(['status', 'totalResults', 'articles'])\n",
            "Success! Text sample: Olympic 100m medallist Kerley arrested in Miami Two-time Olympic 100m medallist Fred Kerley is arres...\n",
            "Word count: 82\n"
          ]
        }
      ]
    },
    {
      "cell_type": "markdown",
      "id": "3ace0325",
      "metadata": {
        "id": "3ace0325"
      },
      "source": [
        "## 1. Text Preprocessing (30 pts)\n",
        "\n",
        "- Use the `raw_text` variable you fetched.\n",
        "- Tokenize, lowercase, remove punctuation.\n",
        "- Remove stopwords.\n",
        "- Plot the top-10 most frequent tokens.\n",
        "\n",
        "**TODO:** Write your code below and commit after each sub-step."
      ]
    },
    {
      "cell_type": "code",
      "execution_count": null,
      "id": "e0a08365",
      "metadata": {
        "id": "e0a08365"
      },
      "outputs": [],
      "source": [
        "# TODO: Tokenize and clean raw_text\n"
      ]
    },
    {
      "cell_type": "code",
      "execution_count": null,
      "id": "72aad684",
      "metadata": {
        "id": "72aad684"
      },
      "outputs": [],
      "source": [
        "# TODO: Remove stopwords\n"
      ]
    },
    {
      "cell_type": "code",
      "execution_count": null,
      "id": "719f9ddf",
      "metadata": {
        "id": "719f9ddf"
      },
      "outputs": [],
      "source": [
        "# TODO: Plot frequent tokens\n"
      ]
    },
    {
      "cell_type": "markdown",
      "id": "c6afbb41",
      "metadata": {
        "id": "c6afbb41"
      },
      "source": [
        "## 2. Synonym Generation (30 pts)\n",
        "\n",
        "- Pick 5 tokens from your preprocessed results.\n",
        "- Manually list 2-3 synonyms each.\n",
        "- Use Google AI Studio Text API to generate synonyms for each.\n",
        "\n",
        "**TODO:** Complete the code and reflections."
      ]
    },
    {
      "cell_type": "code",
      "execution_count": null,
      "id": "cbe374bd",
      "metadata": {
        "id": "cbe374bd"
      },
      "outputs": [],
      "source": [
        "# TODO: Manually list synonyms\n"
      ]
    },
    {
      "cell_type": "code",
      "execution_count": null,
      "id": "67852b47",
      "metadata": {
        "id": "67852b47"
      },
      "outputs": [],
      "source": [
        "# TODO: Call Google AI Studio Text API for synonyms\n"
      ]
    },
    {
      "cell_type": "markdown",
      "id": "a7ee1a81",
      "metadata": {
        "id": "a7ee1a81"
      },
      "source": [
        "## 3. Part-of-Speech Annotation (20 pts)\n",
        "\n",
        "- Select one sentence from `raw_text`.\n",
        "- Manually tag each word with its POS.\n",
        "- Call the AI Studio syntax endpoint and compare.\n",
        "\n",
        "**TODO:** Implement tagging and comparison."
      ]
    },
    {
      "cell_type": "code",
      "execution_count": null,
      "id": "5b2cab55",
      "metadata": {
        "id": "5b2cab55"
      },
      "outputs": [],
      "source": [
        "# TODO: Manual POS tagging\n"
      ]
    },
    {
      "cell_type": "code",
      "execution_count": null,
      "id": "b5b000fc",
      "metadata": {
        "id": "b5b000fc"
      },
      "outputs": [],
      "source": [
        "# TODO: Call AI Studio syntax endpoint\n"
      ]
    },
    {
      "cell_type": "markdown",
      "id": "9bd782a6",
      "metadata": {
        "id": "9bd782a6"
      },
      "source": [
        "## 4. Thinking & Reflection (20 pts)\n",
        "\n",
        "Answer in Markdown:\n",
        "1. Which preprocessing step had the biggest impact?\n",
        "2. What surprised you about the AI outputs?\n",
        "3. How would you integrate manual rules and AI calls in a production pipeline?"
      ]
    }
  ],
  "metadata": {
    "colab": {
      "provenance": []
    },
    "language_info": {
      "name": "python"
    },
    "kernelspec": {
      "name": "python3",
      "display_name": "Python 3"
    }
  },
  "nbformat": 4,
  "nbformat_minor": 5
}