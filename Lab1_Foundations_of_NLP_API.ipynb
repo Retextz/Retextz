{
  "cells": [
    {
      "cell_type": "markdown",
      "id": "2d5b477d",
      "metadata": {
        "id": "2d5b477d"
      },
      "source": [
        "# Lab 1: Foundations of NLP\n",
        "\n",
        "In this lab you will **choose one** API to fetch approximately 200 words of live text, then use that text for all tasks below.\n",
        "\n",
        "**TODO:** Pick your API from the list (see README/API docs), and implement the fetch in the first code cell."
      ]
    },
    {
      "cell_type": "code",
      "source": [
        "import os\n",
        "import requests\n",
        "import nltk\n",
        "import string\n",
        "import matplotlib.pyplot as plt\n",
        "from nltk.corpus import stopwords\n",
        "from nltk.tokenize import word_tokenize\n",
        "from collections import Counter\n",
        "\n",
        "nltk.download('stopwords')\n",
        "nltk.download('punkt_tab')\n",
        "\n",
        "API_KEY = \"News_api_key\"\n",
        "url = f'https://newsapi.org/v2/everything?q=Miami&apiKey={API_KEY}'\n",
        "\n",
        "try:\n",
        "    response = requests.get(url)\n",
        "    data = response.json()\n",
        "\n",
        "    print(\"Status Code:\", response.status_code)\n",
        "    print(\"Response Keys\", data.keys())\n",
        "\n",
        "    if response.status_code != 200:\n",
        "        print(\"API Error:\", data.get('message', 'Unknown error'))\n",
        "    elif 'articles' not in data:\n",
        "        print(\"Invalid response format. Available keys:\", data.keys())\n",
        "    else:\n",
        "        articles = data['articles']\n",
        "        raw_text = ' '.join([\n",
        "            a['title'] + ' ' + (a.get('description', '') or '')\n",
        "            for a in articles[:22]\n",
        "        ])[:777]\n",
        "\n",
        "        print(\"Success! Text sample:\", raw_text[:222] + \"...\")\n",
        "        print(f\"Word count: {len(raw_text.split())}\")\n",
        "\n",
        "except Exception as e:\n",
        "    print(f\"Failed with error: {str(e)}\")\n",
        "    # Fallback Point\n",
        "    raw_text = \"\"\"Miami is a major city in Florida known for its beaches...\"\"\"\n"
      ],
      "metadata": {
        "colab": {
          "base_uri": "https://localhost:8080/"
        },
        "id": "4zT6JvMHehoH",
        "outputId": "a27aa1a8-2316-4447-b742-2e3529a7a507"
      },
      "id": "4zT6JvMHehoH",
      "execution_count": null,
      "outputs": [
        {
          "output_type": "stream",
          "name": "stderr",
          "text": [
            "[nltk_data] Downloading package stopwords to /root/nltk_data...\n",
            "[nltk_data]   Unzipping corpora/stopwords.zip.\n",
            "[nltk_data] Downloading package punkt_tab to /root/nltk_data...\n",
            "[nltk_data]   Unzipping tokenizers/punkt_tab.zip.\n"
          ]
        },
        {
          "output_type": "stream",
          "name": "stdout",
          "text": [
            "Status Code: 200\n",
            "Response Keys dict_keys(['status', 'totalResults', 'articles'])\n",
            "Success! Text sample: Olympic 100m medallist Kerley arrested in Miami Two-time Olympic 100m medallist Fred Kerley is arrested in Miami for allegedly punching former partner Alaysha Johnson, according to police. Formula 1 Drivers Just Hit the Tr...\n",
            "Word count: 129\n"
          ]
        }
      ]
    },
    {
      "cell_type": "markdown",
      "id": "3ace0325",
      "metadata": {
        "id": "3ace0325"
      },
      "source": [
        "## 1. Text Preprocessing (30 pts)\n",
        "\n",
        "- Use the `raw_text` variable you fetched.\n",
        "- Tokenize, lowercase, remove punctuation.\n",
        "- Remove stopwords.\n",
        "- Plot the top-10 most frequent tokens.\n",
        "\n",
        "**TODO:** Write your code below and commit after each sub-step."
      ]
    },
    {
      "cell_type": "code",
      "execution_count": null,
      "id": "e0a08365",
      "metadata": {
        "colab": {
          "base_uri": "https://localhost:8080/"
        },
        "id": "e0a08365",
        "outputId": "35f26b60-7fc1-44e5-f296-e7564a88168f"
      },
      "outputs": [
        {
          "output_type": "stream",
          "name": "stdout",
          "text": [
            "['olympic', '100m', 'medallist', 'kerley', 'arrested', 'in', 'miami', 'two-time', 'olympic', '100m', 'medallist', 'fred', 'kerley', 'is', 'arrested', 'in', 'miami', 'for', 'allegedly', 'punching']\n",
            "\n",
            "Total tokens: 134\n"
          ]
        }
      ],
      "source": [
        "# TODO: Tokenize and clean raw_text\n",
        "tokens = word_tokenize(raw_text.lower())\n",
        "tokens = [word for word in tokens if word not in string.punctuation]\n",
        "\n",
        "print(tokens[:20])\n",
        "print(f\"\\nTotal tokens: {len(tokens)}\")"
      ]
    },
    {
      "cell_type": "code",
      "execution_count": null,
      "id": "72aad684",
      "metadata": {
        "colab": {
          "base_uri": "https://localhost:8080/"
        },
        "id": "72aad684",
        "outputId": "accfe0fb-6390-4d65-8003-f56c07890578"
      },
      "outputs": [
        {
          "output_type": "stream",
          "name": "stdout",
          "text": [
            "['olympic', '100m', 'medallist', 'kerley', 'arrested', 'miami', 'two-time', 'olympic', '100m', 'medallist', 'fred', 'kerley', 'arrested', 'miami', 'allegedly', 'punching', 'former', 'partner', 'alaysha', 'johnson']\n",
            "\n",
            " Tokens left: 94\n"
          ]
        }
      ],
      "source": [
        "# TODO: Remove stopwords\n",
        "stop_words = set(stopwords.words('english'))\n",
        "filtered_tokens = [word for word in tokens if word not in stop_words]\n",
        "\n",
        "print(filtered_tokens[:20])\n",
        "print(f\"\\n Tokens left: {len(filtered_tokens)}\")\n"
      ]
    },
    {
      "cell_type": "code",
      "execution_count": null,
      "id": "719f9ddf",
      "metadata": {
        "colab": {
          "base_uri": "https://localhost:8080/",
          "height": 821
        },
        "id": "719f9ddf",
        "outputId": "2b995dff-c8b5-4f51-dda4-c771a01e19c3"
      },
      "outputs": [
        {
          "output_type": "display_data",
          "data": {
            "text/plain": [
              "<Figure size 1000x600 with 1 Axes>"
            ],
            "image/png": "[encoded data removed]"
          },
          "metadata": {}
        },
        {
          "output_type": "stream",
          "name": "stdout",
          "text": [
            "\n",
            "Top 10 words:\n",
            "miami: 6\n",
            "'s: 3\n",
            "maker: 3\n",
            "faire: 3\n",
            "olympic: 2\n",
            "100m: 2\n",
            "medallist: 2\n",
            "kerley: 2\n",
            "arrested: 2\n",
            "lego: 2\n"
          ]
        }
      ],
      "source": [
        "# TODO: Plot frequent tokens\n",
        "word_counts = Counter(filtered_tokens)\n",
        "top_10 = word_counts.most_common(10)\n",
        "\n",
        "words = [item[0] for item in top_10]\n",
        "counts = [item[1] for item in top_10]\n",
        "\n",
        "plt.figure(figsize=(10, 6))\n",
        "plt.bar(words, counts, color = 'orange')\n",
        "plt.xlabel('Words')\n",
        "plt.ylabel('Frequency')\n",
        "plt.title('Top 10 Most Frequent Words')\n",
        "plt.xticks(rotation=45, ha = 'right', fontsize = 10)\n",
        "plt.tight_layout()\n",
        "\n",
        "# Save & Show\n",
        "plt.savefig('word_frequencies.png')\n",
        "plt.show()\n",
        "\n",
        "# Print repeated words\n",
        "print(\"\\nTop 10 words:\")\n",
        "for word, count in top_10:\n",
        "    print(f\"{word}: {count}\")"
      ]
    },
    {
      "cell_type": "markdown",
      "id": "c6afbb41",
      "metadata": {
        "id": "c6afbb41"
      },
      "source": [
        "## 2. Synonym Generation (30 pts)\n",
        "\n",
        "- Pick 5 tokens from your preprocessed results.\n",
        "- Manually list 2-3 synonyms each.\n",
        "- Use Google AI Studio Text API to generate synonyms for each.\n",
        "\n",
        "**TODO:** Complete the code and reflections."
      ]
    },
    {
      "cell_type": "code",
      "source": [
        "!pip install -q google-generativeai\n",
        "\n",
        "import google.generativeai as genai\n",
        "from google.colab import userdata\n",
        "\n",
        "API_KEY = \"Google_studio_api\"\n",
        "\n",
        "genai.configure(api_key=API_KEY)\n",
        "\n",
        "# Pick 5 tokens from the preprocessed results (filtered_tokens)\n",
        "selected_tokens = filtered_tokens[:5] # Taking the first 5 for demonstration\n",
        "\n",
        "print(\"Selected Tokens for Synonym Generation:\", selected_tokens)\n",
        "\n",
        "# Manually list synonyms (example based on potential common words)\n",
        "manual_synonyms = {\n",
        "    'miami': ['south beach', 'magic city'],\n",
        "    'florida': ['sunshine state'],\n",
        "    'city': ['metropolis', 'town', 'urban center'],\n",
        "    'major': ['important', 'significant', 'principal'],\n",
        "    'known': ['famous', 'recognized', 'celebrated']\n",
        "}\n",
        "\n",
        "print(\"\\nManually Listed Synonyms:\")\n",
        "for token, synonyms in manual_synonyms.items():\n",
        "  print(f\"{token}: {', '.join(synonyms)}\")\n",
        "\n",
        "\n",
        "# Use Google AI Studio Text API to generate synonyms\n",
        "model = genai.GenerativeModel('gemini-1.5-flash-latest')\n",
        "\n",
        "print(\"\\nAI Generated Synonyms:\")\n",
        "for token in selected_tokens:\n",
        "  try:\n",
        "    prompt = f\"List 3 synonyms for the word '{token}'.\"\n",
        "    response = model.generate_content(prompt)\n",
        "    print(f\"{token}: {response.text.strip()}\")\n",
        "  except Exception as e:\n",
        "    print(f\"Could not generate synonyms for '{token}': {e}\")"
      ],
      "metadata": {
        "colab": {
          "base_uri": "https://localhost:8080/",
          "height": 448
        },
        "id": "JFMY9KsBurmk",
        "outputId": "62ade91e-6ff4-4274-f240-40ecb4605f8a"
      },
      "id": "JFMY9KsBurmk",
      "execution_count": null,
      "outputs": [
        {
          "output_type": "stream",
          "name": "stdout",
          "text": [
            "Selected Tokens for Synonym Generation: ['olympic', '100m', 'medallist', 'kerley', 'arrested']\n",
            "\n",
            "Manually Listed Synonyms:\n",
            "miami: south beach, magic city\n",
            "florida: sunshine state\n",
            "city: metropolis, town, urban center\n",
            "major: important, significant, principal\n",
            "known: famous, recognized, celebrated\n",
            "\n",
            "AI Generated Synonyms:\n",
            "olympic: 1. Games\n",
            "2. Olympian (referring to the athletes)\n",
            "3. International (in the context of games)\n",
            "100m: 1. Century\n",
            "2. Hundred meters\n",
            "3. One hundred meters\n",
            "medallist: 1. Winner\n",
            "2. Champion\n",
            "3. Laureate\n",
            "kerley: There are no common synonyms for \"Kerley\" as it's primarily a surname and a less common given name.  There's no inherent meaning that allows for straightforward synonym replacement.\n",
            "arrested: 1. Apprehended\n",
            "2. Detained\n",
            "3. Taken into custody\n"
          ]
        }
      ]
    },
    {
      "cell_type": "markdown",
      "id": "a7ee1a81",
      "metadata": {
        "id": "a7ee1a81"
      },
      "source": [
        "## 3. Part-of-Speech Annotation (20 pts)\n",
        "\n",
        "- Select one sentence from `raw_text`.\n",
        "- Manually tag each word with its POS.\n",
        "- Call the AI Studio syntax endpoint and compare.\n",
        "\n",
        "**TODO:** Implement tagging and comparison."
      ]
    },
    {
      "cell_type": "code",
      "source": [
        "# prompt: Select one sentence from raw_text.\n",
        "# Manually tag each word with its POS.\n",
        "# Call the AI Studio syntax endpoint and compare.\n",
        "\n",
        "# Select one sentence from raw_text\n",
        "sentence = raw_text.split('.')[0] + '.' # Taking the first sentence\n",
        "\n",
        "print(\"Selected Sentence:\", sentence)\n",
        "\n",
        "# Manually tag each word with its POS\n",
        "# This requires manual effort based on the sentence content.\n",
        "# Example tagging for a hypothetical sentence like \"Miami is a major city.\"\n",
        "# You will need to adapt this based on the actual sentence you select.\n",
        "manual_pos_tags = {\n",
        "    \"Miami\": \"PROPN\",  # Proper Noun\n",
        "    \"is\": \"AUX\",     # Auxiliary Verb\n",
        "    \"a\": \"DET\",      # Determiner\n",
        "    \"major\": \"ADJ\",   # Adjective\n",
        "    \"city\": \"NOUN\",    # Noun\n",
        "    \".\": \"PUNCT\" # Punctuation\n",
        "    # Add tags for each word in your selected sentence\n",
        "}\n",
        "\n",
        "print(\"\\nManual POS Tags:\")\n",
        "for word, pos in manual_pos_tags.items():\n",
        "    print(f\"{word}: {pos}\")\n",
        "\n",
        "# Call the AI Studio syntax endpoint and compare.\n",
        "# The Google AI Studio API does not have a dedicated \"syntax endpoint\" like some\n",
        "# traditional NLP libraries (e.g., spaCy or NLTK's built-in taggers).\n",
        "# However, we can prompt the generative model to perform POS tagging.\n",
        "\n",
        "print(\"\\nAI Studio POS Tags:\")\n",
        "try:\n",
        "    prompt = f\"Perform part-of-speech tagging for the following sentence and list the word and its tag:\\n{sentence}\"\n",
        "    response = model.generate_content(prompt)\n",
        "    print(response.text.strip())\n",
        "except Exception as e:\n",
        "    print(f\"Could not perform POS tagging with AI Studio: {e}\")\n",
        "\n",
        "# Comparison\n",
        "print(\"\\nComparison:\")\n",
        "print(\"Manual vs AI Studio Tags: (Requires manual comparison based on the outputs above)\")\n",
        "# You would manually compare the \"Manual POS Tags\" and \"AI Studio POS Tags\" outputs\n",
        "# to see how well the AI model performs the tagging task."
      ],
      "metadata": {
        "id": "TxcjBqt7rE1A",
        "outputId": "834b3ad7-ea6e-4b42-bfac-e0fbb93e11d0",
        "colab": {
          "base_uri": "https://localhost:8080/",
          "height": 1000
        }
      },
      "id": "TxcjBqt7rE1A",
      "execution_count": null,
      "outputs": [
        {
          "output_type": "stream",
          "name": "stdout",
          "text": [
            "Selected Sentence: Olympic 100m medallist Kerley arrested in Miami Two-time Olympic 100m medallist Fred Kerley is arrested in Miami for allegedly punching former partner Alaysha Johnson, according to police.\n",
            "\n",
            "Manual POS Tags:\n",
            "Miami: PROPN\n",
            "is: AUX\n",
            "a: DET\n",
            "major: ADJ\n",
            "city: NOUN\n",
            ".: PUNCT\n",
            "\n",
            "AI Studio POS Tags:\n",
            "Here's a part-of-speech tagging of the sentence.  Note that some tags might vary slightly depending on the specific tagging scheme used (e.g., Penn Treebank vs. Universal Dependencies).  I'll use a relatively common scheme:\n",
            "\n",
            "\n",
            "| Word       | Tag      |\n",
            "|------------|-----------|\n",
            "| Olympic    | JJ       | (Adjective)\n",
            "| 100m       | NN       | (Noun - treated as a compound noun)\n",
            "| medallist  | NN       | (Noun)\n",
            "| Kerley     | NNP      | (Proper Noun, singular)\n",
            "| arrested   | VBN      | (Verb, past participle)\n",
            "| in         | IN       | (Preposition)\n",
            "| Miami      | NNP      | (Proper Noun, singular)\n",
            "| Two-time   | JJ       | (Adjective -  hyphenated adjective)\n",
            "| Olympic    | JJ       | (Adjective)\n",
            "| 100m       | NN       | (Noun)\n",
            "| medallist  | NN       | (Noun)\n",
            "| Fred       | NNP      | (Proper Noun, singular)\n",
            "| Kerley     | NNP      | (Proper Noun, singular)\n",
            "| is         | VBZ      | (Verb, 3rd person singular present)\n",
            "| arrested   | VBN      | (Verb, past participle)\n",
            "| in         | IN       | (Preposition)\n",
            "| Miami      | NNP      | (Proper Noun, singular)\n",
            "| for        | IN       | (Preposition)\n",
            "| allegedly  | RB       | (Adverb)\n",
            "| punching   | VBG      | (Verb, present participle)\n",
            "| former     | JJ       | (Adjective)\n",
            "| partner    | NN       | (Noun)\n",
            "| Alaysha    | NNP      | (Proper Noun, singular)\n",
            "| Johnson    | NNP      | (Proper Noun, singular)\n",
            "| ,          | ,        | (Punctuation)\n",
            "| according  | VBG      | (Verb, present participle - used as a participle)\n",
            "| to         | TO       | (Preposition/Particle - could also be considered a particle)\n",
            "| police     | NNS      | (Noun, plural)\n",
            "| .          | .        | (Punctuation)\n",
            "\n",
            "\n",
            "**Abbreviations:**\n",
            "\n",
            "* **JJ:** Adjective\n",
            "* **NN:** Noun, singular or mass\n",
            "* **NNP:** Proper Noun, singular\n",
            "* **NNS:** Noun, plural\n",
            "* **VBN:** Verb, past participle\n",
            "* **IN:** Preposition\n",
            "* **VBZ:** Verb, 3rd person singular present\n",
            "* **RB:** Adverb\n",
            "* **VBG:** Verb, present participle\n",
            "* **TO:** To (preposition or particle)\n",
            "* **,**: Comma\n",
            "* **.**: Period\n",
            "\n",
            "\n",
            "This analysis assumes a relatively standard interpretation of the sentence structure.  More sophisticated parsing might yield slightly different results.\n",
            "\n",
            "Comparison:\n",
            "Manual vs AI Studio Tags: (Requires manual comparison based on the outputs above)\n"
          ]
        }
      ]
    },
    {
      "cell_type": "markdown",
      "id": "9bd782a6",
      "metadata": {
        "id": "9bd782a6"
      },
      "source": [
        "## 4. Thinking & Reflection (20 pts)\n",
        "\n",
        "Answer in Markdown:\n",
        "1. Which preprocessing step had the biggest impact?\n",
        "2. What surprised you about the AI outputs?\n",
        "3. How would you integrate manual rules and AI calls in a production pipeline?"
      ]
    }
  ],
  "metadata": {
    "colab": {
      "provenance": []
    },
    "language_info": {
      "name": "python"
    },
    "kernelspec": {
      "name": "python3",
      "display_name": "Python 3"
    }
  },
  "nbformat": 4,
  "nbformat_minor": 5
}