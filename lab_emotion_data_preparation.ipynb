{
  "cells": [
    {
      "cell_type": "markdown",
      "id": "e647a813",
      "metadata": {
        "id": "e647a813"
      },
      "source": [
        "# Emotion Classification: Data Preparation\n",
        "\n",
        "In this notebook, you'll:\n",
        "\n",
        "- Upload up to 10 face images per emotion class.\n",
        "- Organize them into folders by emotion.\n",
        "- Split the dataset into training and testing sets.\n",
        "\n",
        "**Emotions to capture:** `['happy', 'sad', 'angry', 'surprised', 'neutral']`"
      ]
    },
    {
      "cell_type": "markdown",
      "id": "15c308b1",
      "metadata": {
        "id": "15c308b1"
      },
      "source": [
        "## 1. Setup and Imports\n",
        "Install dependencies and import required modules:"
      ]
    },
    {
      "cell_type": "code",
      "source": [
        "# Cell 1: Imports\n",
        "import os\n",
        "from google.colab import files\n",
        "import cv2\n",
        "import matplotlib.pyplot as plt\n",
        "import numpy as np\n",
        "\n",
        "emotions = ['happy', 'sad', 'neutral']\n",
        "data_dir = 'images'\n",
        "\n",
        "os.makedirs(data_dir, exist_ok=True)\n",
        "for emo in emotions:\n",
        "    os.makedirs(os.path.join(data_dir, emo), exist_ok=True)\n",
        "print(\"Setup complete. Data directories ready.\")"
      ],
      "metadata": {
        "colab": {
          "base_uri": "https://localhost:8080/"
        },
        "id": "kO5svOEMJiXJ",
        "outputId": "d9d17d77-7bdc-4de4-86c3-9f29466998b9"
      },
      "id": "kO5svOEMJiXJ",
      "execution_count": 10,
      "outputs": [
        {
          "output_type": "stream",
          "name": "stdout",
          "text": [
            "Setup complete. Data directories ready.\n"
          ]
        }
      ]
    },
    {
      "cell_type": "code",
      "source": [
        "def upload_images():\n",
        "  for emo in emotions:\n",
        "    print(f\"\\nUploading {emo} images (Press 'Cancel' when done):\")\n",
        "    uploaded = files.upload()\n",
        "    for filename in uploaded.keys():\n",
        "      os.rename(filename, os.path.join(data_dir, emo, filename))\n",
        "  print(f\"-> {len(uploaded)} {emo} images uploaded.\")\n",
        ""
      ],
      "metadata": {
        "id": "gIttQd1GMxWD"
      },
      "id": "gIttQd1GMxWD",
      "execution_count": 12,
      "outputs": []
    },
    {
      "cell_type": "markdown",
      "id": "4077c610",
      "metadata": {
        "id": "4077c610"
      },
      "source": [
        "## 2. Upload Images per Emotion\n",
        "For each emotion, upload up to 10 images. After selecting files, the dialog will close."
      ]
    },
    {
      "cell_type": "markdown",
      "id": "49008c52",
      "metadata": {
        "id": "49008c52"
      },
      "source": [
        "## 3. Prepare Train/Test Split\n",
        "Gather all image paths and labels, then split:"
      ]
    },
    {
      "cell_type": "markdown",
      "id": "7fe37874",
      "metadata": {
        "id": "7fe37874"
      },
      "source": [
        "## 4. Save Split Lists\n",
        "Export file lists and labels to CSV for future use:"
      ]
    },
    {
      "cell_type": "markdown",
      "source": [
        "Aswer reflection in markdown\n",
        "\n",
        "1. **Hidden Bias:**  \n",
        "   Identify one scenario where your current images might lead the model to learn a spurious signal (e.g. background, lighting). How would you test for and eliminate it?\n",
        "\n",
        "2. **Edge Cases:**  \n",
        "   Describe a face or expression that your dataset likely fails to capture. What impact could that have on real-world performance, and how would you address it?\n",
        "\n",
        "3. **Generalization Strategy:**  \n",
        "   With only 10 images per class, what’s one concrete augmentation or data-collection strategy you’d use to improve robustness—and why that choice?\n",
        "\n",
        "\n",
        "\n",
        "\n",
        "\n",
        "\n"
      ],
      "metadata": {
        "id": "Kw96bB7LIlYw"
      },
      "id": "Kw96bB7LIlYw"
    }
  ],
  "metadata": {
    "colab": {
      "provenance": []
    },
    "language_info": {
      "name": "python"
    },
    "kernelspec": {
      "name": "python3",
      "display_name": "Python 3"
    }
  },
  "nbformat": 4,
  "nbformat_minor": 5
}